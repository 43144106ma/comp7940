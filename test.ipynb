{
 "metadata": {
  "language_info": {
   "codemirror_mode": {
    "name": "ipython",
    "version": 3
   },
   "file_extension": ".py",
   "mimetype": "text/x-python",
   "name": "python",
   "nbconvert_exporter": "python",
   "pygments_lexer": "ipython3",
   "version": 3
  },
  "orig_nbformat": 2
 },
 "nbformat": 4,
 "nbformat_minor": 2,
 "cells": [
  {
   "cell_type": "code",
   "execution_count": null,
   "metadata": {},
   "outputs": [],
   "source": [
    "dispatcher.add_handler(CommandHandler(\"hello\", hello_command))\n",
    "\n",
    "\n",
    "def hello_command(update: Update, context: CallbackContext) -> None:\n",
    "    \"\"\"Send a message when the command /hello is issued.\"\"\"\n",
    "    try:\n",
    "        logging.info(context.args[0])\n",
    "        msg = context.args[0]\n",
    "        update.message.reply_text(\n",
    "            'Good day, ' + msg + \"!\")\n",
    "    except (IndexError, ValueError):\n",
    "        update.message.reply_text('Usage: /hello <keyword>')\n"
   ]
  }
 ]
}